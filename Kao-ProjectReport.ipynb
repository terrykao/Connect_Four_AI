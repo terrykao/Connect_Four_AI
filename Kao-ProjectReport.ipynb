{
 "cells": [
  {
   "cell_type": "markdown",
   "metadata": {},
   "source": [
    "# Machine Learning Project to Play Connect Four\n",
    "\n",
    "<i>by Terry Kao, December 9, 2018</i>"
   ]
  },
  {
   "cell_type": "markdown",
   "metadata": {},
   "source": [
    "## Table Of Contents <a name=\"TableOfContents\"></a>\n",
    "\n",
    "1. [Introduction](#Introduction)\n",
    "2. [Design](#Design)\n",
    "    1. [Connect Four Game](#GameStateRepresentation)      \n",
    "        1. [Game State Representation](#GameStateRepresentation)\n",
    "        2. [Game Move Representation](#GAmeMoveRepresentation)\n",
    "3. [Methods](#Methods)\n",
    "    1. [Code Implementation](#CodeImplementation)\n",
    "        1. [Connect Four Functions ](#ConnectFourFunctions)\n",
    "        2. [Agent Classes](#AgentClasses)\n",
    "        3. [Framework For Two Agents To Play Each Other](#FrameworkForTwoAgentsPlay)\n",
    "        4. [Deep Q Training Functions](#DeepQTrainingFunctions)\n",
    "    2. [Data](#Data)\n",
    "4. [Results](#Results)\n",
    "    1. [Deep Q Learning Training](#DeepQTraining)\n",
    "    2. [Analysis of Deep Q Learning Training](#AnalysisOfTrainHistory)\n",
    "        1. [Load Previous Deep Q Learning Training History](#LoadPreviousTrainHistory)\n",
    "        2. [Deep Q Training Loss Analysis](#LossAnalysis)\n",
    "        3. [Deep Q Training Total Moves Analysis](#TotalMovesAnalysis)\n",
    "        4. [Deep Q Training Game Results Analysis](#TrainGameResultsAnalysis)\n",
    "    3. [Game Play Between Different AI Agents](#GamePlayResults)   \n",
    "        1. [Random Agent Versus Random Agent - Baseline For Random Agent Performance](#RandomVsRandom)\n",
    "        2. [Minimax Agent Versus Random Agent](#MinimaxVsRandom)\n",
    "        3. [Deep Q RL Agent Versus Random Agent](#DeepQVsRandom)\n",
    "        4. [Deep Q RL Agent Versus Minimax Agent](#DeepQVsMinimax)\n",
    "5. [Conclusions](#Conclusions)\n",
    "6. [References](#References)\n",
    "\n"
   ]
  },
  {
   "cell_type": "markdown",
   "metadata": {},
   "source": [
    "## Introduction <a name=\"Introduction\"></a>"
   ]
  },
  {
   "cell_type": "markdown",
   "metadata": {},
   "source": [
    "My final project will do a study of the performance of two separate agents using different AI algorithms, developed to play the two-player game, Connect Four, originally produced by Milton Bradley.  The two primary agents will be developed using the AI algorithms of Minimax with alpha-beta pruning and search depth limitation, and Reinforcement Learning with Q function as an artificial neural network.  Each of these two agents will be compared against a random agent, which purely selects moves randomly, as a baseline.  The two primary agents will also play each other.\n",
    "\n",
    "I will implement a framework which allows the two agents to play Connect Four against each other, for a specifed number of iterations.  On each iteration, the deep RL agent will be trained from the experience of the played game with it self, using the learned Q function as a neural network.  The framework will record a history of details for each iteration, including average time spent to make a move for each agent, neural network training time (for deep RL agent), number of moves made, total elapsed game time, and game result of win, lose, or draw.\n",
    "\n",
    "Connect Four should be a well known game, at least in the USA.  It's a vertical board game, with 7 columns and 6 rows, where two players take turns dropping a piece down a column, which will drop to the lowest unoccupied row. Each player tries to connect four pieces in consecutive slots on the board, either horizontally, veritically, or diagonally, in order to win. "
   ]
  },
  {
   "cell_type": "markdown",
   "metadata": {},
   "source": [
    "## Design <a href=\"#Design\"/>"
   ]
  },
  {
   "cell_type": "markdown",
   "metadata": {},
   "source": [
    "### Game State Representation <a href=\"#GameStateRepresentation\"/>"
   ]
  },
  {
   "cell_type": "markdown",
   "metadata": {},
   "source": [
    "The Connect Four game board has 7 columns and 6 rows.  At each turn, a player places a single piece into one of the 7 available columns, that have not filled.  The piece will drop to the lowest available, unoccupied slot within the column.  \n",
    "\n",
    "Each column will be represented as either an empty list, or list with up to a maximum of 6 integers, in the set {1, 2}, representing a piece for player 1 or player 2 respectively.  For example:\n",
    "* [] represents an empty column without any pieces\n",
    "* [1, 2, 2] represents a column with pieces 1 at the bottom (first) row, 2 at the second row, and 2 at the third row.\n",
    "* [2, 2, 2, 1, 1, 1] represents a column that is fully occupied with piece 2 at the bottom row, and piece 1 at the top row.\n",
    "\n",
    "Each column list is placed within another list, indexed from 0 to 6, representing the column number.  Column 0 represents the left most column, column 1 represents the second column from the left, and column 6 represents the last, right most column.  For example:\n",
    "* [[], [], [], [], [], [], []] represents an initial state game board with no pieces.\n",
    "* [[1], [2], [], [], [], [], []] represents a game board with two pieces placed; piece 1 at the bottom of the left most column (0), and piece 2 at the bottom of second column (1) from the left.\n",
    "\n",
    "This provides a compact representation of the game state.  \n",
    "\n",
    "### Game Move Representation <a name=\"GameMoveRepresentation\"/>\n",
    "\n",
    "At each turn, a player can make up to a maximum of 7 possible moves, depending on how many columns are not filled.  Each move is represented as an integer, from 0 to 6, representing the column where the player will place the piece.  "
   ]
  },
  {
   "cell_type": "markdown",
   "metadata": {},
   "source": [
    "## Methods <a name=\"Methods\"></a>\n"
   ]
  },
  {
   "cell_type": "markdown",
   "metadata": {},
   "source": [
    "### Code Implementation <a name=\"CodeImplementation\"></a>\n",
    "\n",
    "To implement this project, I implemented or modified the following required Python code myself:\n",
    "\n",
    "* New required functions to support playing Connect Four, that can be used by different AI agents using variouis algorithms including MiniMax with Alpha-Beta pruning and search depth limitation, Deep Reinforcement Q Learning, and Random Move Selection.\n",
    "* Modified the existing Minimax function provided in lecture notes, to support search depth limitation, allowing search to only go up to a specified level depth.  This is necessary as an exhaustive search of a Connect Four game tree is not \"tractable\" given my compute resources and time allowed for this project.  Minimax will also be modified as needed to be able to play as either player 1 or 2.\n",
    "* Modify, possibly rewrite, the Reinforcement Learning functions I modified from lecture notes used in Assignment 4, to support a Q function implemented as a PyTorch neural network.  The PyTorch implementation will support easily specifing the number of hidden layer structures, similiar to what we did in Assignment 5, so we can find a good network architecture for our deep RL agent.\n",
    "* New `Agent` class implementations, whose constructor will take function references for aiAlgorithmF, actionsF, resultF, and playerWinsF.  The aiAlgorithmF parameter will be a function reference to a function that will select the best move given a state, and will define whether the constructed agent uses minimax or deep RL.  The Agent class will support a common interface `takeAction(state)` method that returns the new state for the best action selected based on the AI algorithm passed to it (minimax or RL). \n",
    "* New function, with the signature `letsPlayAGame(maxGamesToPlay, agent1, agent2, terminalTestF, playerWinsF, intialGameStateF)`.  This will be our framework mentioned above to automatically allow two different agents to play each other for a maximum number of iterations provided.  The appropriate agent instances will be constructed with either the minimax or deep RL algorithms, and passed to this function as agent1 and agent2.\n",
    "\n",
    "In addition, I provided a mechanism to persist the trained PyTorch models, along with performance metrics for each training epoch, as a Python Pickle file, which can be reloaded from disk.  This will allow contintuation of training the deep RL agent from letsPlayAGame if desired, or separating out experiments and analysis phase of project from the training phase.\n",
    "\n",
    "#### Connect Four Functions <a name=\"ConnectFourFunctions\"></a>\n",
    "\n",
    "The following game functions are implemented in the connectfour.py module. This includes standard 2 player game functions used in our study of AI, such as makeMove, validMoves, terminalTest, and printState.\n",
    "\n",
    "`createInitialGameState(rows=6, cols=7)`: create initial game state <br/>\n",
    "`pieces(state)`: Returns the count of player 1 and player 2 pieces as a tuple, in that order. <br/>\n",
    "`playerToMove(state)`: Returns player to move based on given state.  <br/>\n",
    "`makeMove(state, move)`: Returns the new state resulting from making move of current player from current state.  <br/>\n",
    "`validMoves(state, rows=6)`: Returns a list of valid moves that the next player  <br/>\n",
    "`printState(state)`: Pretty prints the current Connect Four game state to stdout. <br/>\n",
    "`playerWins(state, player)`: Tests if state has given player win. <br/>\n",
    "`winner(state)`: Returns winning player number if state is a win for either player 1 or 2, or 0 is no winner. <br/>\n",
    "`otherPlayer(player)`: Returns the other player value. <br/>\n",
    "`player(state)`: Returns the player that can make a move for current state. <br/>\n",
    "`terminalTest(state)`: Tests if the game is over. <br/>\n",
    "`actions(state)`: Returns list of all valid actions for given game state. <br/>\n",
    "`result(state, action)`: Makes a Connect Four move given by action for current state of game. <br/>\n",
    "\n",
    "#### Connect Four Heuristic Functions <a name=\"ConnectFourFunctions\"></a>\n",
    "\n",
    "In order to evaluate utility up to the maximum depth limit specified for MiniMax, we implemented an utility function which provides an estimate of current utility based on position of pieces on the board, as we are not able to search to the terminal leaf nodes.  These function are in the module, connect4heuristics.py.\n",
    "\n",
    "`utilityEstimated(state, player, playerWinsF)`: returns estimated utility for player in given game state\n",
    "\n",
    "The following are helper functions to determine the board score:<br/>\n",
    "`winningDiagonalUpCombination(state, player):` Counts number of four in a row diagonal up lines.<br/>\n",
    "`winningDiagonalDownCombination(state, player):` Counts number of four in a row diagonal down lines.<br/>\n",
    "`winningHorizontalCombination(state, player):` Counts number of four in a row horizontal lines.<br/>\n",
    "`horizontalLines(state, player):` Number of horizontal lines with two or more pieces.<br/>\n",
    "`verticalLines(state, player):` Number of vertical lines with two or more pieces.<br/>\n",
    "`diagonalDownLines(state, player):` Number of diagonal down lines with two or more pieces.<br/>\n",
    "`diagonalUpLines(state, player):` Number of diagonal up lines with two or more pieces.<br/>\n",
    "`boardScore(state, player):` Score of board based on position of pieces.<br/>\n",
    "\n",
    "\n",
    "#### Agent Classes <a name=\"AgentClasses\"></a>\n",
    "\n",
    "Three agent classes (MinimaxAgent, QNeuralNetworkAgent, RandomAgent) are implemented in the agents.py module, which allows different agents using different AI algorithms to play each other in Connect Four.  Each agent type will implement the following common interface function, for selecting the \"best\" move possible:\n",
    "`takeAction(self, state)`: Takes best action for agent given passed state, returning new state as a result. <br/>\n",
    "This permits our framework function to take in any combination of playing agents, as long as it implements the takeAction interface function.\n",
    "\n",
    "Each agent will have it's down distinct constructor as follows.\n",
    "\n",
    "<u>MiniMaxAgent class</u><br/>\n",
    "In the constructor, the aiAlgorithmF parameter is set a search function, such as  alphaBetaSearch.\n",
    "`ctor(aiAlgorithmF, actionsF, resultF, playerWinsF)`: constructor <br/>\n",
    "\n",
    "<u>QNeuralNetworkAgent class</u><br/>\n",
    "In the constructor, a learned Q neural network needs to be passed.\n",
    "`ctor(Q, actionsF, resultF, playerWinsF)`: constructor <br/>\n",
    "\n",
    "<u>RandomAgent class</u><br/>\n",
    "`ctor(actionsF, resultF, playerWinsF)`: constructor <br/>\n",
    "\n",
    "#### Framework For Two Agents To Play Each Other <a name=\"FrameworkForTwoAgentsPlay\"></a>\n",
    "\n",
    "\n",
    "The following function allows two different agents to play each other in a single game of Connect Four, returning the 0, 1, or 2 that represents a tie, player 1 win, or player 2 win:<br/>\n",
    "`letsPlayAGame(agent1, agent2, terminalTestF, playerWinsF, printStateF, initialGameStateF)` <br/>\n",
    "\n",
    "The following function plays a set of Connect Four games given by total_games between the two agents, outputing the the statistics of the contest including number of wins and ties:<br/>\n",
    "`contestPlay(agent1, agent2, total_games)` <br/>\n",
    "\n",
    "These functions are found in the playgame.py module.  This will permit us to play sets of games between the two primary agents, Minimax and Deep Q RL, against the baseline Random agent to see how their performance measures up via benchmark.\n",
    "\n",
    "#### Deep Q Training Functions<a name=\"DeepQTrainingFunctions\"></a>\n",
    "\n",
    "The following is the primary function used to train a Deep Q Reinforcement Learning model.  \n",
    "`trainQLearningNN(nn_layers, agent, terminalTestF, playerWinsF, validMovesF, makeMoveF, initialGameStateF, stateNdarrayConverterF, printStateF, epochs=200, batchSize=250, bufferSize=1000, epsilon=1.0, min_epsilon=0.1, gamma=0.9, verbose=True)`\n",
    "The nn_layers parameter is a list of integers, specifying the neural network architecture (input layer units, number of hidden layers and units, and the number of output layer units).\n",
    "\n",
    "In the primary training function, I implemented experience replay, to prevent \"catostrophic forgetting\".  This was done by collecting samples in a reply buffer up to the given bufferSize parameter.  Then training proceeds by randomly selecting a batch of samples from the reply buffer, leveraging PyTorch to calculate gradients using the MSE loss function, and then backpropogate to the network.  This technique is referenced in [3].\n",
    "\n",
    "\n",
    "The following are helper functions used by trainQLearningNN:\n",
    "`createNNBuildingBlocks(nn_layers, learning_rate=1e-3)`: creates PyTorch neural network building blocks, including the model given by the nn_layers structure, a loss function (MSE), and an optimizer. <br/>\n",
    "`getDevice(gpu_num=0)`: helper function that returns either cpu or gpu device used throughout our library.<br/>\n",
    "`selectMoveByEpsilonGreedyPolicy(epsilon, state, Q, validMovesF=None)`: selects a move using epsilon greedy policy.<br/>\n",
    "`buildTrainingMiniBatch(replayBuffer, batchSize, gamma, Q, Q_target, currentReward)`: builds <br/>\n",
    "\n",
    "These functions are implemented in the qlearntrain.py module.\n"
   ]
  },
  {
   "cell_type": "markdown",
   "metadata": {},
   "source": [
    "### Data <a name=\"Data\"></a>\n",
    "\n",
    "This project will not be using any additional data sets.  It is expected the Minimax agent will be able to just play, by using search to a specified maximum ply depth, and the custom heuristic function developed for providing a board score based on current position of pieces.  The Deep Q Reinforcement Learning agent will learn based on experience gained from playing games with itself.  And the Random agent simply uses random selection to make a move. "
   ]
  },
  {
   "cell_type": "markdown",
   "metadata": {},
   "source": [
    "## Results <a name=\"Results\"></a>"
   ]
  },
  {
   "cell_type": "markdown",
   "metadata": {},
   "source": [
    "Most of the code implementation is placed in external Python modules, in order to keep this notebook manageable.  In this section we will use the code in the relevant modules to display and discuss our results.\n",
    "\n",
    "Lets import the functions and classes we need from the modules."
   ]
  },
  {
   "cell_type": "code",
   "execution_count": 1,
   "metadata": {},
   "outputs": [],
   "source": [
    "import numpy as np\n",
    "from trainhistory import loadTrainingHistory\n",
    "from trainhistory import createTrainingHistoryData\n",
    "from playgame import letsPlayAGame\n",
    "from playgame import contestPlay\n",
    "from agents import QNeuralNetAgent\n",
    "from agents import MinimaxAgent\n",
    "from agents import RandomAgent\n",
    "from connectfour import validMoves\n",
    "from connectfour import makeMove\n",
    "from connectfour import actions\n",
    "from connectfour import result\n",
    "from connectfour import playerWins\n",
    "from connectfour import terminalTest\n",
    "from connectfour import printState\n",
    "from connectfour import createInitialGameState\n",
    "from connectfour import stateAsNdarray\n",
    "from minimax import alphaBetaSearch\n",
    "from graph import plotLineData\n",
    "from graph import plotScatterData\n",
    "from train import trainQLearningNN"
   ]
  },
  {
   "cell_type": "markdown",
   "metadata": {},
   "source": [
    "### Deep Q Learning Training <a name=\"DeepQTraining\"></a>\n",
    "\n",
    "The following cell, currently commented out, calls trainQLearningNN and trains the Q neural network using PyTorch for 5000 epochs.  However, this takes a significant amount of time, almost 13 hours on my rig with a Titan Xp.  However, I was training multiple models at the time.  If desired, this can be commented out, with epochs reduced to try out the training.  As each epoch completes, data is serialized to an auto generated pickle file, containing the a dictionary of the models produced at each epoch, along with various performance metrics from training.  \n",
    "\n",
    "If you do try out the training, a new training history file will be created, containing the timestamp in seconds since the Epoch.\n",
    "\n",
    "During training, the cell display output will be cleared on each game move, showing the state of the Connect Four game board, along with epoch details such as average loss, current loss, epoch iteration number, elasped time, and so on.  For example, the following is sample output from training: \n",
    "\n",
    "    epoch: 5001/5000, accuracy: 0%, average loss: 0.01, current loss: 0.02, average epoch time: 8.7, last epoch time: 9.8, estimated training time left: 0.0, elapsed: 43500.2, epsilon: 0.0002\n",
    "    O.O.OO.\n",
    "    X.X.XX.\n",
    "    O.O.OO.\n",
    "    X.X.XX.\n",
    "    O.O.OO.\n",
    "    X.XXXX."
   ]
  },
  {
   "cell_type": "code",
   "execution_count": 2,
   "metadata": {},
   "outputs": [
    {
     "name": "stdout",
     "output_type": "stream",
     "text": [
      "epoch: 101/100, accuracy: 0%, average loss: 19.44, current loss: 264.37, average epoch time: 4.0, last epoch time: 5.7, estimated training time left: 0.0, elapsed: 413.6, epsilon: 0.0100\n",
      "O.OX..X\n",
      "O.XO..O\n",
      "XXOX..X\n",
      "OOXOX.O\n",
      "XXOXX.X\n",
      "OOXOX.O\n"
     ]
    }
   ],
   "source": [
    "model, trainHist_ = trainQLearningNN(nn_layers=[(6*7), 150, 150, 150, 150, 150, 150, 7], \n",
    "                                           agent=QNeuralNetAgent(Q=None, validMovesF=validMoves, makeMoveF=makeMove),\n",
    "                                           terminalTestF=terminalTest,\n",
    "                                           playerWinsF=playerWins,\n",
    "                                           validMovesF=validMoves,\n",
    "                                           makeMoveF=makeMove,\n",
    "                                           printStateF=printState,\n",
    "                                           initialGameStateF=createInitialGameState,\n",
    "                                           stateNdarrayConverterF=stateAsNdarray,\n",
    "                                           bufferSize=2000,\n",
    "                                           batchSize=250,\n",
    "                                           gamma=0.9,\n",
    "                                           epsilon=1.0,\n",
    "                                           min_epsilon=0.,\n",
    "                                           epochs=100)"
   ]
  },
  {
   "cell_type": "markdown",
   "metadata": {},
   "source": [
    "### Analysis of Deep Q Learning Training <a name=\"AnalysisOfTrainHistory\"></a>"
   ]
  },
  {
   "cell_type": "markdown",
   "metadata": {},
   "source": [
    "#### Load Previous Deep Q Learning Training History <a name=\"LoadPreviousTrainHistory\"></a>"
   ]
  },
  {
   "cell_type": "markdown",
   "metadata": {},
   "source": [
    "Load the deep Q learning training history from a Python pickle file, which is a dictionary containing performance metrics, loss, training time, PyTorch model for each epoch.  This particular saved pickle file trained for 5000 epoch iterations.  From the loaded dictionary, we will examine graphical plots of the training loss values, total moves played for each epoch.  We will also pick out a best model to use as our Deep Q Learning Agent to play games later in this section."
   ]
  },
  {
   "cell_type": "code",
   "execution_count": 5,
   "metadata": {},
   "outputs": [],
   "source": [
    "trainHist = trainHist_\n",
    "#trainHist = loadTrainingHistory('training-history-1544479984.pickle')\n",
    "\n",
    "#print(\"We trained for {} epochs, with a total of {} models saved at the end of each epoch iteration.\".format(len(trainHist['models']), len(trainHist['models']) ))"
   ]
  },
  {
   "cell_type": "code",
   "execution_count": 6,
   "metadata": {},
   "outputs": [
    {
     "data": {
      "text/plain": [
       "[42, 150, 150, 150, 150, 150, 150, 7]"
      ]
     },
     "execution_count": 6,
     "metadata": {},
     "output_type": "execute_result"
    }
   ],
   "source": [
    "trainHist['neuralNetLayers']"
   ]
  },
  {
   "cell_type": "markdown",
   "metadata": {},
   "source": [
    "The above is the recorded neural network layers used: 6 hidden layers with 150 units each, and 42 input units and 7 output units.  The 42 input units correspond to the 42 possible cells in a Connect Game board that has 7 columns and 6 rows.  The 7 output units correspond to the 7 possible columns that a player can place a piece.  Basically for each input state (42 input units for each game board cell), we output 7 Q values, corresponding to each possible column move that can be made.  This is an optmization technique that allows us to only do one inference on the neural network, instead of doing up to 7 inferences, with a state + move input.\n",
    "\n",
    "Lets take a look at a few other training history metrics."
   ]
  },
  {
   "cell_type": "code",
   "execution_count": 7,
   "metadata": {},
   "outputs": [
    {
     "data": {
      "text/plain": [
       "44"
      ]
     },
     "execution_count": 7,
     "metadata": {},
     "output_type": "execute_result"
    }
   ],
   "source": [
    "trainHist['totalWins']"
   ]
  },
  {
   "cell_type": "code",
   "execution_count": 8,
   "metadata": {},
   "outputs": [
    {
     "data": {
      "text/plain": [
       "5"
      ]
     },
     "execution_count": 8,
     "metadata": {},
     "output_type": "execute_result"
    }
   ],
   "source": [
    "trainHist['totalDraws']"
   ]
  },
  {
   "cell_type": "code",
   "execution_count": 9,
   "metadata": {},
   "outputs": [
    {
     "data": {
      "text/plain": [
       "4.005958847480245"
      ]
     },
     "execution_count": 9,
     "metadata": {},
     "output_type": "execute_result"
    }
   ],
   "source": [
    "trainHist['epochAvgTrainTime']"
   ]
  },
  {
   "cell_type": "code",
   "execution_count": 10,
   "metadata": {},
   "outputs": [
    {
     "data": {
      "text/plain": [
       "0.11238940099875132"
      ]
     },
     "execution_count": 10,
     "metadata": {},
     "output_type": "execute_result"
    }
   ],
   "source": [
    "trainHist['totalTrainTime'] / (60*60)"
   ]
  },
  {
   "cell_type": "markdown",
   "metadata": {},
   "source": [
    "Total time to train with 5000 epochs with above neural network architecture took about 12 hours!"
   ]
  },
  {
   "cell_type": "markdown",
   "metadata": {},
   "source": [
    "With the training history loaded into memory as a dictionary, lets do some analysis on some key metric points."
   ]
  },
  {
   "cell_type": "markdown",
   "metadata": {},
   "source": [
    "#### Deep Q Training Loss Analysis <a name=\"LossAnalysis\"></a>\n",
    "\n",
    "The training history dictionary has a \"losses\" element, which is an array of average loss value at the end of each of the 500 epoch iterations.  The following is a graphical plot which shows the desired downward trend. It looks like our lowest loss is around epoch 4800."
   ]
  },
  {
   "cell_type": "code",
   "execution_count": 13,
   "metadata": {},
   "outputs": [
    {
     "data": {
      "image/png": "[encoded data removed]",
      "text/plain": [
       "<Figure size 648x432 with 1 Axes>"
      ]
     },
     "metadata": {
      "needs_background": "light"
     },
     "output_type": "display_data"
    }
   ],
   "source": [
    "plotLineData(trainHist['losses'], xlabel=\"Epochs\", ylabel=\"Loss\", avg=10)"
   ]
  },
  {
   "cell_type": "code",
   "execution_count": 14,
   "metadata": {},
   "outputs": [
    {
     "data": {
      "text/plain": [
       "83"
      ]
     },
     "execution_count": 14,
     "metadata": {},
     "output_type": "execute_result"
    }
   ],
   "source": [
    "bestEpochByLossValue = np.argmin(trainHist['losses'])\n",
    "bestEpochByLossValue"
   ]
  },
  {
   "cell_type": "markdown",
   "metadata": {},
   "source": [
    "Using argmin, we find the index in trainHist['losses'] with the lowest loss value, which is 4999.  This means epoch 4999 is our candidate best Q neural network model.  This is saved in the global variable bestEpochByLossValue, which will be used to reference out anticipated best Q model."
   ]
  },
  {
   "cell_type": "markdown",
   "metadata": {},
   "source": [
    "#### Deep Q Training Total Moves Analysis <a name=\"TotalMovesAnalysis\"></a>\n",
    "It is expected as we progress through training, the total number of moves in a Connect Four game per epoch, would increase for two reasons:\n",
    "1. By use of epsilon greedy policy, we shift from using random move selection to choosing moves from the Q neural network.\n",
    "2. As more training is completed, the Q neural network gets better at selecting better moves.\n",
    "\n",
    "The following plot shows the total moves for every epoch, and as expected, shows an upward trend."
   ]
  },
  {
   "cell_type": "code",
   "execution_count": 15,
   "metadata": {},
   "outputs": [
    {
     "data": {
      "image/png": "[encoded data removed]",
      "text/plain": [
       "<Figure size 648x432 with 1 Axes>"
      ]
     },
     "metadata": {
      "needs_background": "light"
     },
     "output_type": "display_data"
    }
   ],
   "source": [
    "plotLineData(trainHist['totalMoves'], xlabel=\"Epochs\", ylabel=\"Moves\", avg=10)"
   ]
  },
  {
   "cell_type": "markdown",
   "metadata": {},
   "source": [
    "#### Deep Q Training Game Results Analysis <a name=\"TrainGameResultsAnalysis\"></a>\n",
    "\n",
    "Lets examine the game results by epoch, where the results are player 1 wins, player 2 wins, or tie game.  It's anticipated that if the Q neural network learns properly, player 1 should start to win more during later epochs.  This is also due to the epsilon greedy policy of selecting moves, where we start favor choosing the best move by the Q approximator, versus random selection.\n",
    "\n",
    "The plots show a scatter plot of the win for player 1 or player 2.  Set set a low alpha transparency value, which allows us to visualize denser sections as favoring more wins for the player along the y-axis.  Due to the large number of epochs (5000), I have broken this up into various sections of 500 epochs to show the transition."
   ]
  },
  {
   "cell_type": "markdown",
   "metadata": {},
   "source": [
    "##### Epochs 1 - 1000"
   ]
  },
  {
   "cell_type": "code",
   "execution_count": 16,
   "metadata": {},
   "outputs": [
    {
     "data": {
      "image/png": "[encoded data removed]",
      "text/plain": [
       "<Figure size 1080x108 with 1 Axes>"
      ]
     },
     "metadata": {
      "needs_background": "light"
     },
     "output_type": "display_data"
    }
   ],
   "source": [
    "plotScatterData(trainHist['gameResults'][0:1000], xlabel=\"Epochs\", ylabel=\"Game Result\", figsize=(15,1.5), avg=1)"
   ]
  },
  {
   "cell_type": "markdown",
   "metadata": {},
   "source": [
    "##### Epochs 1000 - 2000"
   ]
  },
  {
   "cell_type": "code",
   "execution_count": null,
   "metadata": {},
   "outputs": [],
   "source": [
    "plotScatterData(trainHist['gameResults'][1000:2000], xlabel=\"Epochs\", ylabel=\"Game Result\", figsize=(15,1.5), avg=1)"
   ]
  },
  {
   "cell_type": "markdown",
   "metadata": {},
   "source": [
    "##### Epochs 2000 - 3000"
   ]
  },
  {
   "cell_type": "code",
   "execution_count": null,
   "metadata": {},
   "outputs": [],
   "source": [
    "plotScatterData(trainHist['gameResults'][2000:3000], xlabel=\"Epochs\", ylabel=\"Game Result\", figsize=(15,1.5), avg=1)"
   ]
  },
  {
   "cell_type": "markdown",
   "metadata": {},
   "source": [
    "##### Epochs 3000 - 4000"
   ]
  },
  {
   "cell_type": "code",
   "execution_count": null,
   "metadata": {},
   "outputs": [],
   "source": [
    "plotScatterData(trainHist['gameResults'][3000:4000], xlabel=\"Epochs\", ylabel=\"Game Result\", figsize=(15,1.5), avg=1)"
   ]
  },
  {
   "cell_type": "markdown",
   "metadata": {},
   "source": [
    "##### Epochs 4000 - 5000"
   ]
  },
  {
   "cell_type": "code",
   "execution_count": null,
   "metadata": {},
   "outputs": [],
   "source": [
    "plotScatterData(trainHist['gameResults'][4000:5000], xlabel=\"Epochs\", ylabel=\"Game Result\", figsize=(15,1.5), avg=1)"
   ]
  },
  {
   "cell_type": "markdown",
   "metadata": {},
   "source": [
    "### Game Play Between Different AI Agents <a name=\"GamePlayResults\"></a>"
   ]
  },
  {
   "cell_type": "markdown",
   "metadata": {},
   "source": [
    "#### Random Agent Versus Random Agent - Baseline For Random Agent Performance <a name=\"RandomVsRandom\"></a>\n",
    "\n",
    "Have two random agents play each other, to establish a baseline performance for making random moves.  We will be using this later to compare the Minimax Agent and Deep Q RL Agent against the Random Agent.  It is expected that random move selections should resolve in about 50/50 win/loss."
   ]
  },
  {
   "cell_type": "code",
   "execution_count": 17,
   "metadata": {},
   "outputs": [
    {
     "name": "stdout",
     "output_type": "stream",
     "text": [
      "Game #100. Agent1 ({<RandomAgent>}): 60. Agent2 ({<RandomAgent>}): 40. Ties: 0.\n",
      "Played 100 games. Agent1({<RandomAgent>}) won 60 (60%). Agent2({<RandomAgent>}) won 40 (40%). Total ties: 0 (0%).\n"
     ]
    }
   ],
   "source": [
    "contestPlay(agent1=RandomAgent(validMovesF=validMoves, makeMoveF=makeMove),\n",
    "            agent2=RandomAgent(validMovesF=validMoves, makeMoveF=makeMove),\n",
    "            total_games=100)"
   ]
  },
  {
   "cell_type": "markdown",
   "metadata": {},
   "source": [
    "Running this serveral times show roughly 50/50, with a slightly higher ratio in favor of player 1, who makes the first move."
   ]
  },
  {
   "cell_type": "markdown",
   "metadata": {},
   "source": [
    "####  Minimax Agent Versus Random Agent  <a name=\"MinimaxVsRandom\"></a>\n",
    "\n",
    "This will demonstrate how well our Minimax Agent, using our implemented Alpha-Beta pruning and search depth limitation, plays against the Random Agent, which blindly selects moves randomly.  We will use the contestPlay function, and play a total of 100 games, with a depth limit of 2.\n"
   ]
  },
  {
   "cell_type": "code",
   "execution_count": 18,
   "metadata": {},
   "outputs": [
    {
     "name": "stdout",
     "output_type": "stream",
     "text": [
      "Game #100. Agent1 ({<MinimaxAgent> aiAlgorithm: alphaBetaSearch}): 100. Agent2 ({<RandomAgent>}): 0. Ties: 0.\n",
      "Played 100 games. Agent1({<MinimaxAgent> aiAlgorithm: alphaBetaSearch}) won 100 (100%). Agent2({<RandomAgent>}) won 0 (0%). Total ties: 0 (0%).\n"
     ]
    }
   ],
   "source": [
    "contestPlay(agent1=MinimaxAgent(aiAlgorithmF=alphaBetaSearch, actionsF=actions, resultF=result, playerWinsF=playerWins, maxDepth=2),\n",
    "            agent2=RandomAgent(validMovesF=validMoves, makeMoveF=makeMove),\n",
    "            total_games=100)"
   ]
  },
  {
   "cell_type": "markdown",
   "metadata": {},
   "source": [
    "Our Minimax Agent implementation, even with a low depth limit of 2, performs quite well, with a 100% win streak after playing 100 games."
   ]
  },
  {
   "cell_type": "markdown",
   "metadata": {},
   "source": [
    "####  Deep Q RL Agent Versus Random Agent <a name=\"DeepQVsRandom\"></a>\n",
    "\n",
    "We will use the model from epoch 4814, stored in bestEpochByLossValue, which had the lowest loss value, determined from our training loss analysis earlier.  Our baseline shows that player 1 wins 50-55% of the time, during our random agent versus random agent.  If our Deep Q Reinforcement Learning model did any \"learning\", we need it to perform better than 55%."
   ]
  },
  {
   "cell_type": "code",
   "execution_count": 19,
   "metadata": {},
   "outputs": [
    {
     "name": "stdout",
     "output_type": "stream",
     "text": [
      "Game #1000. Agent1 ({<QNeuralNetAgent>}): 834. Agent2 ({<RandomAgent>}): 166. Ties: 0.\n",
      "Played 1000 games. Agent1({<QNeuralNetAgent>}) won 834 (83%). Agent2({<RandomAgent>}) won 166 (16%). Total ties: 0 (0%).\n"
     ]
    }
   ],
   "source": [
    "contestPlay(agent1=QNeuralNetAgent(Q=trainHist['models'][bestEpochByLossValue], validMovesF=validMoves, makeMoveF=makeMove),\n",
    "            agent2=RandomAgent(validMovesF=validMoves, makeMoveF=makeMove), \n",
    "            total_games=1000)"
   ]
  },
  {
   "cell_type": "code",
   "execution_count": 20,
   "metadata": {},
   "outputs": [
    {
     "name": "stdout",
     "output_type": "stream",
     "text": [
      "Game #1000. Agent1 ({<QNeuralNetAgent>}): 827. Agent2 ({<RandomAgent>}): 173. Ties: 0.\n",
      "Played 1000 games. Agent1({<QNeuralNetAgent>}) won 827 (82%). Agent2({<RandomAgent>}) won 173 (17%). Total ties: 0 (0%).\n"
     ]
    }
   ],
   "source": [
    "contestPlay(agent1=QNeuralNetAgent(Q=trainHist['models'][bestEpochByLossValue], validMovesF=validMoves, makeMoveF=makeMove),\n",
    "            agent2=RandomAgent(validMovesF=validMoves, makeMoveF=makeMove), \n",
    "            total_games=1000)"
   ]
  },
  {
   "cell_type": "markdown",
   "metadata": {},
   "source": [
    " "
   ]
  },
  {
   "cell_type": "markdown",
   "metadata": {},
   "source": [
    "On average, out Deep Q RL agent is able to win 87% of the 1000 games played against the Random agent.  This shows we were able to learn, and do better than the 55% baseline benchmark for Random versus Random game play; which is great."
   ]
  },
  {
   "cell_type": "markdown",
   "metadata": {},
   "source": [
    "####  Deep Q RL Agent Versus Minimax Agent <a name=\"DeepQVsMinimax\"></a>\n",
    "\n",
    "Lets try the Deep Q RL agent play the Minimax agent, with a depth limit of 2.  Our expectation is for our Deep Q RL agent to at least tie a few games with the Minimax agent, and possibly win a few."
   ]
  },
  {
   "cell_type": "code",
   "execution_count": 21,
   "metadata": {},
   "outputs": [
    {
     "name": "stdout",
     "output_type": "stream",
     "text": [
      "Game #100. Agent1 ({<QNeuralNetAgent>}): 0. Agent2 ({<MinimaxAgent> aiAlgorithm: alphaBetaSearch}): 100. Ties: 0.\n",
      "Played 100 games. Agent1({<QNeuralNetAgent>}) won 0 (0%). Agent2({<MinimaxAgent> aiAlgorithm: alphaBetaSearch}) won 100 (100%). Total ties: 0 (0%).\n"
     ]
    }
   ],
   "source": [
    "contestPlay(agent1=QNeuralNetAgent(Q=trainHist['models'][bestEpochByLossValue], validMovesF=validMoves, makeMoveF=makeMove),\n",
    "            agent2=MinimaxAgent(aiAlgorithmF=alphaBetaSearch, actionsF=actions, resultF=result, playerWinsF=playerWins, maxDepth=2),\n",
    "            total_games=100)\n"
   ]
  },
  {
   "cell_type": "markdown",
   "metadata": {},
   "source": [
    "The results show that our Minimax agent is still much stronger, having won 100% of the games.  "
   ]
  },
  {
   "cell_type": "markdown",
   "metadata": {},
   "source": [
    "#### Demo of Lets Play A Game <a name=\"LetsPlayAGameDemo\"></a>\n",
    "\n",
    "Between the Deep Q RL agent as player 1, and the Minimax agent with depth limitation of 2 levels as player 2."
   ]
  },
  {
   "cell_type": "code",
   "execution_count": 22,
   "metadata": {},
   "outputs": [
    {
     "name": "stdout",
     "output_type": "stream",
     "text": [
      "Agent 1 took 0.060s to make move.\n",
      ".......\n",
      ".......\n",
      "...X...\n",
      "...X...\n",
      "...X...\n",
      "OOOOX..\n",
      "\n",
      "O won.\n",
      "Total game time was 0.560s, with 4 plies.\n",
      "Agent 1 ({<QNeuralNetAgent>}) average move time is 0.002s, taking a total of 0.009s\n",
      "Agent 2 ({<MinimaxAgent> aiAlgorithm: alphaBetaSearch}) average move time is 0.135s, taking a total of 0.540s\n"
     ]
    },
    {
     "data": {
      "text/plain": [
       "2"
      ]
     },
     "execution_count": 22,
     "metadata": {},
     "output_type": "execute_result"
    }
   ],
   "source": [
    "letsPlayAGame(agent1=QNeuralNetAgent(Q=trainHist['models'][bestEpochByLossValue], validMovesF=validMoves, makeMoveF=makeMove),\n",
    "              agent2=MinimaxAgent(aiAlgorithmF=alphaBetaSearch, actionsF=actions, resultF=result, playerWinsF=playerWins, maxDepth=2),\n",
    "              terminalTestF=terminalTest,\n",
    "              playerWinsF=playerWins,\n",
    "              printStateF=printState,\n",
    "              initialGameStateF=createInitialGameState)\n",
    "\n"
   ]
  },
  {
   "cell_type": "markdown",
   "metadata": {},
   "source": [
    "Note the difference in time taken to make moves between the two agents.  Clearly the Deep Q RL agent takes significantly less time, compared to Minimax agent; by a factor of 13 times."
   ]
  },
  {
   "cell_type": "markdown",
   "metadata": {},
   "source": [
    "## Conclusions <a name=\"Conclusions\"></a>"
   ]
  },
  {
   "cell_type": "markdown",
   "metadata": {},
   "source": [
    "\n",
    "* We were able to successfully train a Deep Q Learning neural network, that appeared to \"learn\".  This was based on testing the Deep Q RL agent against the baseline Random agent, where it was able to win 87% of the time.  This is an improvement over the 55% win ratio between Random versus Random agents.  \n",
    "* However, the game play results between Deep Q RL agent versus Minimax agent was not encouraging, as Minimax was able to win 100% of the time.  Given that we were able to have Deep Q beat Random 87% of the time, this means we can probably do better with more training and possibly a more advanced neural network architecture.  However, the current model training took over 12 hours, not including a grid search of other NN architectures.  So time wise, I was not able to try to build a better performing model against Minimax.  \n",
    "* Even though Deep Q was not able to beat Minimax, I did find it interesting that it was able to learn to play Connect Four without any additional code being implemented to teach it specific rules.  For Minimax with Alpha-Beta pruning and search depth limitation, we had to develop a set of heuristic functions to allow it be able to score the game board state based on current position of pieces, as it could not search to terminal states to determine true utility.  This means we had to program in specific rules and strategies for Connect Four in order for Minimax to function properly.  But Deep Q just relied on iterative game play, mostly using random selection of moves in the beginning of its training.  This is a strength of Q learning with a neural network, in that in can be taught to self play without programming in specific knowledge about the game.\n",
    "* In addition, the Deep Q agent was able to make moves much faster than Minimax, which used searching up to a maximum depth level of 2 in our experiments, by a factor of 13 times.  Though Deep Q required significant upfront time for training, as in our case, this took 12 hours.\n",
    "* This project also gave me a chance to work with PyTorch, in using it to build and train the Q neural network.  I find the PyTorch API to be pretty clean and easy to work with.  In addition, having a chance to work on modifying the code for Minimax, adding in optimizations for alpha-beta pruning, search depth limitation with heuristic utility functions, was very interesting as we didn't have an opporutnity to work such an assignment during the course.\n"
   ]
  },
  {
   "cell_type": "markdown",
   "metadata": {},
   "source": [
    "## References <a name=\"References\"></a>"
   ]
  },
  {
   "cell_type": "markdown",
   "metadata": {},
   "source": [
    "1. [Russel, et al., 2010] Stuart Russell and Peter Norvig, Artificial Intelligence A Modern Approach, Prentice Hall. 2010\n",
    "2. [Zai, et al., 2018] Alex Zai and Brandon Brown, Deep Reinforcement Learning in Action, Manning Pub. 2018\n",
    "3. [Anderson, 2018] Charles Anderson, <a href=\"http://nbviewer.jupyter.org/url/www.cs.colostate.edu/~anderson/cs440/notebooks/11%20Adversarial%20Search.ipynb\">Lecture Notes 11 - Adversarial Search</a> <a name=\"3\"></a>\n",
    "4. [Anderson, 2018] Charles Anderson, <a href=\"http://nbviewer.jupyter.org/url/www.cs.colostate.edu/~anderson/cs440/notebooks/15%20Reinforcement%20Learning%20for%20Two-Player%20Games.ipynb\">Lecture Notes 15 - Reinforcement Learning for Two-Player Games</a> \n",
    "\n",
    "\n",
    "\n"
   ]
  },
  {
   "cell_type": "code",
   "execution_count": null,
   "metadata": {},
   "outputs": [],
   "source": [
    "import io\n",
    "from IPython.nbformat import current\n",
    "import glob\n",
    "nbfile = glob.glob('Kao-ProjectReport.ipynb')\n",
    "if len(nbfile) > 1:\n",
    "    print('More than one ipynb file. Using the first one.  nbfile=', nbfile)\n",
    "with io.open(nbfile[0], 'r', encoding='utf-8') as f:\n",
    "    nb = current.read(f, 'json')\n",
    "word_count = 0\n",
    "for cell in nb.worksheets[0].cells:\n",
    "    if cell.cell_type == \"markdown\":\n",
    "        word_count += len(cell['source'].replace('#', '').lstrip().split(' '))\n",
    "print('Word count for file', nbfile[0], 'is', word_count)"
   ]
  },
  {
   "cell_type": "code",
   "execution_count": null,
   "metadata": {},
   "outputs": [],
   "source": []
  }
 ],
 "metadata": {
  "kernelspec": {
   "display_name": "Python 3",
   "language": "python",
   "name": "python3"
  },
  "language_info": {
   "codemirror_mode": {
    "name": "ipython",
    "version": 3
   },
   "file_extension": ".py",
   "mimetype": "text/x-python",
   "name": "python",
   "nbconvert_exporter": "python",
   "pygments_lexer": "ipython3",
   "version": "3.6.5"
  }
 },
 "nbformat": 4,
 "nbformat_minor": 2
}
